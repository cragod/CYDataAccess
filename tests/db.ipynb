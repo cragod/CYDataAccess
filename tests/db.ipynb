{
 "metadata": {
  "language_info": {
   "codemirror_mode": {
    "name": "ipython",
    "version": 3
   },
   "file_extension": ".py",
   "mimetype": "text/x-python",
   "name": "python",
   "nbconvert_exporter": "python",
   "pygments_lexer": "ipython3",
   "version": "3.7.5-final"
  },
  "orig_nbformat": 2,
  "kernelspec": {
   "name": "python37564bit8409255418034dfeada81c2f6070bc9d",
   "display_name": "Python 3.7.5 64-bit"
  }
 },
 "nbformat": 4,
 "nbformat_minor": 2,
 "cells": [
  {
   "cell_type": "code",
   "execution_count": 21,
   "metadata": {},
   "outputs": [
    {
     "output_type": "execute_result",
     "data": {
      "text/plain": "0.8712582184966501"
     },
     "metadata": {},
     "execution_count": 21
    }
   ],
   "source": [
    "from cy_data_access.connection.connect import *\n",
    "from cy_data_access.models.aims import *\n",
    "connect_db_env(db_name=DB_POSITION)\n",
    "# aims_info = AIMSPosition(exchange_name='binance', coin_pair='BNB/USDT', cost=22.33333332, hold=0.00003332)\n",
    "# aims_info.save()\n",
    "read_info = AIMSPosition.objects.raw({'exchange_name': 'binance', 'coin_pair': 'BNB/USDT'}).first()\n",
    "read_info.cost += 100\n",
    "read_info.hold += 123.321\n",
    "read_info.save()\n",
    "read_info.cost / read_info.hold"
   ]
  },
  {
   "cell_type": "code",
   "execution_count": null,
   "metadata": {},
   "outputs": [],
   "source": []
  }
 ]
}