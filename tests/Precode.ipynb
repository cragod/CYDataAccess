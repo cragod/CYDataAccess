{
 "cells": [
  {
   "cell_type": "code",
   "execution_count": 1,
   "metadata": {},
   "outputs": [],
   "source": [
    "from pymodm.connection import connect\n",
    "\n",
    "name = 'admin'\n",
    "password = 'admin123456'\n",
    "ip = '127.0.0.1'\n",
    "port = 27017\n",
    "\n",
    "def connect_db(name, password, ip, port, db_name):\n",
    "    uri = \"mongodb://{}:{}@{}:{}/{}?authSource=admin\".format(name, password, ip, port, db_name)\n",
    "    connect(uri, db_name)"
   ]
  },
  {
   "cell_type": "code",
   "execution_count": null,
   "metadata": {},
   "outputs": [],
   "source": [
    "from pymodm import fields, MongoModel\n",
    "db_alias = 'cfg'\n",
    "collection_name = 'cc_config'\n",
    "class ExchangeConfiguration(MongoModel):\n",
    "    \"\"\"Exchange configuration\"\"\"\n",
    "    identifier = fields.IntegerField(primary_key=True)\n",
    "    app_key = fields.CharField(min_length=3)\n",
    "    app_secret = fields.CharField(min_length=3)\n",
    "    name = fields.CharField(min_length=3)\n",
    "    deleted = fields.BooleanField(default=False)\n",
    "\n",
    "    class Meta:\n",
    "        collection_name = collection_name\n",
    "        connection_alias = db_alias\n"
   ]
  }
 ],
 "metadata": {
  "kernelspec": {
   "display_name": "Python 3.7.5 64-bit",
   "language": "python",
   "name": "python37564bit0b633b15d70b48adb30f596c0f66ec29"
  },
  "language_info": {
   "codemirror_mode": {
    "name": "ipython",
    "version": 3
   },
   "file_extension": ".py",
   "mimetype": "text/x-python",
   "name": "python",
   "nbconvert_exporter": "python",
   "pygments_lexer": "ipython3",
   "version": "3.7.5-final"
  }
 },
 "nbformat": 4,
 "nbformat_minor": 4
}